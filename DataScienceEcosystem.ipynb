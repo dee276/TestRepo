{
 "cells": [
  {
   "cell_type": "markdown",
   "id": "bde88863-f7d5-4431-b3b8-70021f535217",
   "metadata": {},
   "source": [
    "# Data Science Tools and Ecosystem\n",
    "In this notebook, Data Science Tools and Ecosystem are summarized."
   ]
  },
  {
   "cell_type": "markdown",
   "id": "ac59b964-32ae-4867-809e-e16dd26fd3f9",
   "metadata": {},
   "source": [
    "**Objectives:**\n",
    "+ Popular languages in Data Science\n",
    "+ Commonly used librairies\n",
    "+ Data Science Tools\n",
    "+ Markdown Language"
   ]
  },
  {
   "cell_type": "markdown",
   "id": "dfd2a99a-d48d-4568-9409-d0dcaa1dc7da",
   "metadata": {},
   "source": [
    "Some of the popular languages tha Data Scientist use are:\n",
    "1. Python\n",
    "2. R\n",
    "3. SQL"
   ]
  },
  {
   "cell_type": "markdown",
   "id": "140f8992-04d0-40ec-b9d0-985d730288d1",
   "metadata": {},
   "source": [
    "Some of the commonly used librairies used by Data Scientist include:\n",
    "1. Matplotlib\n",
    "2. Numpy\n",
    "3. PyTorch\n",
    "4. Scikit-learn\n",
    "5. TensorFlow"
   ]
  },
  {
   "cell_type": "markdown",
   "id": "70564f03-4a82-4ee2-8a32-b1f16318737f",
   "metadata": {},
   "source": [
    "|Data Science Tools|\n",
    "|------------------|\n",
    "|Anaconda|\n",
    "|RStudio|\n",
    "|Watson Studio|"
   ]
  },
  {
   "cell_type": "markdown",
   "id": "fa064412-f9b1-4d6e-a4a7-56faf265331e",
   "metadata": {},
   "source": [
    "### Below are a few examples of evaluating arithmetic expressions in Python."
   ]
  },
  {
   "cell_type": "code",
   "execution_count": 24,
   "id": "e6fa9ee0-3209-47d4-9b56-d6e892f46294",
   "metadata": {},
   "outputs": [
    {
     "data": {
      "text/plain": [
       "17"
      ]
     },
     "execution_count": 24,
     "metadata": {},
     "output_type": "execute_result"
    }
   ],
   "source": [
    "# This is a simple arithmetic expression to multiply then add integers\n",
    "(3*4)+5"
   ]
  },
  {
   "cell_type": "code",
   "execution_count": 45,
   "id": "4a2e3349-24c1-47d3-871d-cd236aea2bdc",
   "metadata": {},
   "outputs": [
    {
     "name": "stdout",
     "output_type": "stream",
     "text": [
      "200 minutes =3 heures et 20 minutes\n"
     ]
    }
   ],
   "source": [
    "# This will converts 200 minutes to hours by dividing by 60\n",
    "# It takes the result of the floor and remainder division of 60 then concanate them\n",
    "print(\"200 minutes =\"+ str(200//60)+\" heures et \"+str(200%60)+ \" minutes\")"
   ]
  },
  {
   "cell_type": "markdown",
   "id": "45a7c5d2-0af7-4759-a4c3-a255af62464d",
   "metadata": {},
   "source": [
    "## Author\n",
    "Dudley Orestil "
   ]
  },
  {
   "cell_type": "code",
   "execution_count": null,
   "id": "f1388be2-afb1-429a-ae5c-20326679544a",
   "metadata": {},
   "outputs": [],
   "source": []
  }
 ],
 "metadata": {
  "kernelspec": {
   "display_name": "Python [conda env:base]",
   "language": "python",
   "name": "conda-base-py"
  },
  "language_info": {
   "codemirror_mode": {
    "name": "ipython",
    "version": 3
   },
   "file_extension": ".py",
   "mimetype": "text/x-python",
   "name": "python",
   "nbconvert_exporter": "python",
   "pygments_lexer": "ipython3",
   "version": "3.12.7"
  }
 },
 "nbformat": 4,
 "nbformat_minor": 5
}
