{
 "cells": [
  {
   "cell_type": "code",
   "execution_count": 2,
   "id": "acd03294-cc09-445d-baec-d0f634d9957a",
   "metadata": {},
   "outputs": [
    {
     "data": {
      "text/html": [
       "6"
      ],
      "text/latex": [
       "6"
      ],
      "text/markdown": [
       "6"
      ],
      "text/plain": [
       "[1] 6"
      ]
     },
     "metadata": {},
     "output_type": "display_data"
    }
   ],
   "source": [
    "2 * 3"
   ]
  },
  {
   "cell_type": "code",
   "execution_count": 4,
   "id": "b475276c-78dd-4b5e-b19d-db9e12aa3a08",
   "metadata": {},
   "outputs": [
    {
     "data": {
      "text/html": [
       "0"
      ],
      "text/latex": [
       "0"
      ],
      "text/markdown": [
       "0"
      ],
      "text/plain": [
       "[1] 0"
      ]
     },
     "metadata": {},
     "output_type": "display_data"
    }
   ],
   "source": [
    "1 - 1"
   ]
  },
  {
   "cell_type": "code",
   "execution_count": 6,
   "id": "0cdc62f8-a8c8-4a68-afb6-164e5edd45c3",
   "metadata": {},
   "outputs": [
    {
     "data": {
      "text/html": [
       "-5"
      ],
      "text/latex": [
       "-5"
      ],
      "text/markdown": [
       "-5"
      ],
      "text/plain": [
       "[1] -5"
      ]
     },
     "metadata": {},
     "output_type": "display_data"
    }
   ],
   "source": [
    "0 - 5"
   ]
  },
  {
   "cell_type": "code",
   "execution_count": 12,
   "id": "61d4f57d-da47-40db-b178-921abf3b8c08",
   "metadata": {},
   "outputs": [
    {
     "data": {
      "text/html": [
       "3"
      ],
      "text/latex": [
       "3"
      ],
      "text/markdown": [
       "3"
      ],
      "text/plain": [
       "[1] 3"
      ]
     },
     "metadata": {},
     "output_type": "display_data"
    }
   ],
   "source": [
    "#assigning value in r using the less and minus sign ' <-'\n",
    "a <- 1\n",
    "a + 2"
   ]
  },
  {
   "cell_type": "code",
   "execution_count": 16,
   "id": "24b2c0b2-3b1a-45aa-878f-832fcd50e90f",
   "metadata": {},
   "outputs": [
    {
     "name": "stdout",
     "output_type": "stream",
     "text": [
      "  Emp_Name   Job_role\n",
      "1      Jai    Manager\n",
      "2    David  Team Lead\n",
      "3   Michel Developper\n"
     ]
    }
   ],
   "source": [
    "#It prints out as a Matrix of 2x3\n",
    "#Interesting, i should study some R programming\n",
    "df = data.frame(Emp_Name = c(\"Jai\",\"David\",\"Michel\"),\n",
    "                Job_role = c(\"Manager\",\"Team Lead\",\"Developper\")\n",
    "                )\n",
    "print(df)"
   ]
  },
  {
   "cell_type": "code",
   "execution_count": null,
   "id": "1106602e-bcb3-4f4a-8ab9-70235e7e1811",
   "metadata": {},
   "outputs": [],
   "source": []
  }
 ],
 "metadata": {
  "kernelspec": {
   "display_name": "R [conda env:RP_env] *",
   "language": "R",
   "name": "conda-env-RP_env-r"
  },
  "language_info": {
   "codemirror_mode": "r",
   "file_extension": ".r",
   "mimetype": "text/x-r-source",
   "name": "R",
   "pygments_lexer": "r",
   "version": "3.6.1"
  }
 },
 "nbformat": 4,
 "nbformat_minor": 5
}
